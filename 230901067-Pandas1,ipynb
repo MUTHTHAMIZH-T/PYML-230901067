
import pandas as pd
df=pd.DataFrame()
print(df)
Empty DataFrame
Columns: []
Index: []
emp=pd.Series(['dharsan','sudeep','siva','yash','keerthana'])
id=pd.Series([80,90,28,57,49])
Frame={'Emp':emp,'ID':id}
result=pd.DataFrame(Frame)
print("\nseries to DataFrame\n")
print(result)
series to DataFrame

         Emp  ID
0    dharsan  80
1     sudeep  90
2       siva  28
3       yash  57
4  keerthana  49
print("\n Extracting one column\n")
print(result['Emp'])
 Extracting one column

0      dharsan
1       sudeep
2         siva
3         yash
4    keerthana
Name: Emp, dtype: object
print("\n Adding new column")
result['ID']=pd.Series([80,90,28,56,89])
result['Age']=pd.Series([19,90,34,67,20])
print(result)
 Adding new column
         Emp  ID  Age
0    dharsan  80   19
1     sudeep  90   90
2       siva  28   34
3       yash  56   67
4  keerthana  89   20
print("\n deleting new column:\n")
del result['Age']
print(result)
 deleting new column:

         Emp  ID
0    dharsan  80
1     sudeep  90
2       siva  28
3       yash  56
4  keerthana  89
print("\n Extracting the second row:\n")
print(result.loc[1])
 Extracting the second row:

Emp    sudeep
ID         90
Name: 1, dtype: object
print("slice rows:\n",result[1:4])
slice rows:
       Emp  ID
1  sudeep  90
2    siva  28
3    yash  56
d2=pd.DataFrame([['vicky',100],['Rashid',111]],columns=['Emp','ID'])
print("\n Addind new row values:\n",pd.concat([result,d2]))
 Addind new row values:
          Emp   ID
0    dharsan   80
1     sudeep   90
2       siva   28
3       yash   56
4  keerthana   89
0      vicky  100
1     Rashid  111
 
